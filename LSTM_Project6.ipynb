{
  "nbformat": 4,
  "nbformat_minor": 0,
  "metadata": {
    "colab": {
      "name": "LSTM Project1.ipynb",
      "provenance": [],
      "toc_visible": true,
      "mount_file_id": "https://github.com/pra1608/quality-Prediction-in-mining/blob/main/LSTM_Project2.ipynb",
      "authorship_tag": "ABX9TyNNVzdfomkLfN52cFq0wvFh",
      "include_colab_link": true
    },
    "kernelspec": {
      "name": "python3",
      "display_name": "Python 3"
    }
  },
  "cells": [
    {
      "cell_type": "markdown",
      "metadata": {
        "id": "view-in-github",
        "colab_type": "text"
      },
      "source": [
        "<a href=\"https://colab.research.google.com/github/pra1608/quality-Prediction-in-mining/blob/main/LSTM_Project6.ipynb\" target=\"_parent\"><img src=\"https://colab.research.google.com/assets/colab-badge.svg\" alt=\"Open In Colab\"/></a>"
      ]
    },
    {
      "cell_type": "code",
      "metadata": {
        "id": "FsLUowKghX7q"
      },
      "source": [
        "import pandas as pd\n",
        "import matplotlib.pyplot as plt\n",
        "import tensorflow as tf\n",
        "from tensorflow import keras\n",
        "from sklearn.model_selection import train_test_split\n",
        "\n",
        "from sklearn.preprocessing import StandardScaler"
      ],
      "execution_count": 138,
      "outputs": []
    },
    {
      "cell_type": "code",
      "metadata": {
        "id": "AVcpDROJw-X-"
      },
      "source": [
        "df = pd.read_pickle('/content/drive/My Drive/Colab Notebooks/cleaned.pkl')\n",
        "\n"
      ],
      "execution_count": 139,
      "outputs": []
    },
    {
      "cell_type": "code",
      "metadata": {
        "id": "LsajoH90Tspn"
      },
      "source": [
        "df = df.set_index(['datetime'])"
      ],
      "execution_count": 140,
      "outputs": []
    },
    {
      "cell_type": "code",
      "metadata": {
        "id": "4RrICWvWT5lR"
      },
      "source": [
        "X_train, X_test, y_train, y_test = train_test_split(df[df.columns.values[:-1]], df[df.columns.values[-1]], test_size=0.1, random_state=42)"
      ],
      "execution_count": 141,
      "outputs": []
    },
    {
      "cell_type": "markdown",
      "metadata": {
        "id": "f19BjCOGlktv"
      },
      "source": [
        "##Data Preprocessing\n",
        "Here we are picking 708480 data points for training. Observation is recorded every ~20 sec, that means 3 times per minute. \n",
        "\n",
        "We are tracking data from past 60 timestamps (60/3=20 minute). This data will be used to predict the temperature after 3 timestamps (3/3=1 minute).\n",
        "\n",
        "Since every feature has values with varying ranges, we do normalization to confine feature values to a range of [0, 1] before training a neural network. We do this by subtracting the mean and dividing by the standard deviation of each feature.\n",
        "\n",
        "80 % of the data will be used to train the model, i.e. 566784 rows. split_fraction can be changed to alter this percentage.\n"
      ]
    },
    {
      "cell_type": "code",
      "metadata": {
        "id": "L6Qjk8OgzP0P",
        "colab": {
          "base_uri": "https://localhost:8080/"
        },
        "outputId": "70caca66-ae3e-49a3-db9e-2ed512b00c0e"
      },
      "source": [
        "X_train.columns"
      ],
      "execution_count": 144,
      "outputs": [
        {
          "output_type": "execute_result",
          "data": {
            "text/plain": [
              "Index(['date', 'year', 'month', 'day', 'hour', 'minute', 'second',\n",
              "       '% Iron Feed', '% Silica Feed', 'Starch Flow', 'Amina Flow',\n",
              "       'Ore Pulp Flow', 'Ore Pulp pH', 'Ore Pulp Density',\n",
              "       'Flotation Column 01 Air Flow', 'Flotation Column 02 Air Flow',\n",
              "       'Flotation Column 03 Air Flow', 'Flotation Column 04 Air Flow',\n",
              "       'Flotation Column 05 Air Flow', 'Flotation Column 06 Air Flow',\n",
              "       'Flotation Column 07 Air Flow', 'Flotation Column 01 Level',\n",
              "       'Flotation Column 02 Level', 'Flotation Column 03 Level',\n",
              "       'Flotation Column 04 Level', 'Flotation Column 05 Level',\n",
              "       'Flotation Column 06 Level', 'Flotation Column 07 Level',\n",
              "       '% Iron Concentrate'],\n",
              "      dtype='object')"
            ]
          },
          "metadata": {
            "tags": []
          },
          "execution_count": 144
        }
      ]
    },
    {
      "cell_type": "code",
      "metadata": {
        "id": "eQcGI256ybrW"
      },
      "source": [
        "selected_feature = X_train.columns[7:].tolist()"
      ],
      "execution_count": 145,
      "outputs": []
    },
    {
      "cell_type": "code",
      "metadata": {
        "colab": {
          "base_uri": "https://localhost:8080/"
        },
        "id": "Ho-qDnTYNzGa",
        "outputId": "11067ad1-357d-4621-dbc2-225b2acbd7de"
      },
      "source": [
        "selected_feature"
      ],
      "execution_count": 146,
      "outputs": [
        {
          "output_type": "execute_result",
          "data": {
            "text/plain": [
              "['% Iron Feed',\n",
              " '% Silica Feed',\n",
              " 'Starch Flow',\n",
              " 'Amina Flow',\n",
              " 'Ore Pulp Flow',\n",
              " 'Ore Pulp pH',\n",
              " 'Ore Pulp Density',\n",
              " 'Flotation Column 01 Air Flow',\n",
              " 'Flotation Column 02 Air Flow',\n",
              " 'Flotation Column 03 Air Flow',\n",
              " 'Flotation Column 04 Air Flow',\n",
              " 'Flotation Column 05 Air Flow',\n",
              " 'Flotation Column 06 Air Flow',\n",
              " 'Flotation Column 07 Air Flow',\n",
              " 'Flotation Column 01 Level',\n",
              " 'Flotation Column 02 Level',\n",
              " 'Flotation Column 03 Level',\n",
              " 'Flotation Column 04 Level',\n",
              " 'Flotation Column 05 Level',\n",
              " 'Flotation Column 06 Level',\n",
              " 'Flotation Column 07 Level',\n",
              " '% Iron Concentrate']"
            ]
          },
          "metadata": {
            "tags": []
          },
          "execution_count": 146
        }
      ]
    },
    {
      "cell_type": "code",
      "metadata": {
        "id": "-VAM8-iKMDid"
      },
      "source": [
        "scaler = StandardScaler()\r\n",
        "X_train = scaler.fit_transform(X_train[selected_feature])\r\n",
        "X_test = scaler.fit_transform(X_test[selected_feature])\r\n",
        "y_train = scaler.fit_transform(y_train.values.reshape(-1,1))\r\n",
        "y_test = scaler.fit_transform(y_test.values.reshape(-1,1))"
      ],
      "execution_count": 149,
      "outputs": []
    },
    {
      "cell_type": "code",
      "metadata": {
        "id": "wZLPdkoq1ReT"
      },
      "source": [
        "import numpy as np\n",
        "np.concatenate((X_train,y_train),axis = 1)\n",
        "features = pd.DataFrame(np.concatenate((X_train,y_train),axis = 1))\n",
        "features.head()\n",
        "ft = pd.DataFrame(np.concatenate((X_test,y_test),axis = 1))\n",
        "\n"
      ],
      "execution_count": 150,
      "outputs": []
    },
    {
      "cell_type": "code",
      "metadata": {
        "id": "xjJUzA3R9MjJ"
      },
      "source": [
        "X1 = features[features.columns.tolist()[0:21]]\n",
        "Y1 = features[features.columns.tolist()[22]]\n",
        "X2 = features[ft.columns.tolist()[0:21]]\n",
        "Y2 = features[ft.columns.tolist()[22]]\n"
      ],
      "execution_count": 151,
      "outputs": []
    },
    {
      "cell_type": "code",
      "metadata": {
        "id": "0HwwJnAq7lLC",
        "colab": {
          "base_uri": "https://localhost:8080/"
        },
        "outputId": "36ce71d7-dab7-4004-c6c9-aaef5b085719"
      },
      "source": [
        "from sklearn.linear_model import Lasso\n",
        "from sklearn.feature_selection import SelectFromModel\n",
        "pd.pandas.set_option('display.max_columns', None)\n",
        "feature_sel_model = SelectFromModel(Lasso(alpha=0.005, random_state=0)) # remember to set the seed, the random state in this function\n",
        "feature_sel_model.fit(X1, Y1)"
      ],
      "execution_count": 153,
      "outputs": [
        {
          "output_type": "execute_result",
          "data": {
            "text/plain": [
              "SelectFromModel(estimator=Lasso(alpha=0.005, copy_X=True, fit_intercept=True,\n",
              "                                max_iter=1000, normalize=False, positive=False,\n",
              "                                precompute=False, random_state=0,\n",
              "                                selection='cyclic', tol=0.0001,\n",
              "                                warm_start=False),\n",
              "                max_features=None, norm_order=1, prefit=False, threshold=None)"
            ]
          },
          "metadata": {
            "tags": []
          },
          "execution_count": 153
        }
      ]
    },
    {
      "cell_type": "code",
      "metadata": {
        "id": "0Bsd1erL9ARR"
      },
      "source": [
        "selected_feat = X1.columns[(feature_sel_model.get_support())]\n"
      ],
      "execution_count": 154,
      "outputs": []
    },
    {
      "cell_type": "code",
      "metadata": {
        "id": "ugGDBVH2-UyG"
      },
      "source": [
        "checklist = selected_feat.tolist()"
      ],
      "execution_count": 155,
      "outputs": []
    },
    {
      "cell_type": "code",
      "metadata": {
        "id": "IDub4Ply-uqJ"
      },
      "source": [
        "features = features.loc[:,[0, 1, 2, 3, 4, 5, 6, 7, 9, 10, 11, 12, 13, 16, 17, 18, 20,21,22]]\r\n",
        "ft = ft.loc[:,[0, 1, 2, 3, 4, 5, 6, 7, 9, 10, 11, 12, 13, 16, 17, 18, 20,21,22]]"
      ],
      "execution_count": 157,
      "outputs": []
    },
    {
      "cell_type": "code",
      "metadata": {
        "id": "zGFmoezrRZ_6"
      },
      "source": [
        "split_fraction = 0.9\r\n",
        "train_split = int(split_fraction * int(X1.shape[0]))\r\n",
        "step = 3\r\n",
        "\r\n",
        "past = 60\r\n",
        "future = 3\r\n",
        "learning_rate = 0.001\r\n",
        "batch_size = 256\r\n",
        "epochs = 3"
      ],
      "execution_count": 158,
      "outputs": []
    },
    {
      "cell_type": "code",
      "metadata": {
        "id": "ezU9kBAs7nae"
      },
      "source": [
        "train_data = features.loc[0 : train_split - 1]\n",
        "val_data = features.loc[train_split:]"
      ],
      "execution_count": 159,
      "outputs": []
    },
    {
      "cell_type": "code",
      "metadata": {
        "id": "cr3Ma3zX1aUa"
      },
      "source": [
        "start = past + future\n",
        "end = start + train_split\n",
        "\n",
        "x_train = train_data[checklist].values\n",
        "y_train = features.iloc[start:end][[22]].values\n",
        "x_test = ft[checklist]\n",
        "y_test = ft[[22]].values\n",
        "\n",
        "sequence_length = int(past / step)"
      ],
      "execution_count": 166,
      "outputs": []
    },
    {
      "cell_type": "code",
      "metadata": {
        "id": "ee_X-DpV8ywM",
        "colab": {
          "base_uri": "https://localhost:8080/"
        },
        "outputId": "80bb1132-205e-4d51-e464-8b67344c87a8"
      },
      "source": [
        "x_test"
      ],
      "execution_count": 164,
      "outputs": [
        {
          "output_type": "execute_result",
          "data": {
            "text/plain": [
              "array([[-1.06499807,  0.77627375,  0.44389032, ...,  0.16632731,\n",
              "         0.22448651,  0.98514414],\n",
              "       [-0.80559937,  0.88195148, -0.26036779, ..., -0.89489177,\n",
              "        -0.92360669, -1.2645634 ],\n",
              "       [ 0.11374016, -0.21825502,  0.550307  , ...,  0.26651945,\n",
              "         0.41805592,  0.26345117],\n",
              "       ...,\n",
              "       [-0.71595423,  0.86313215,  1.33713576, ..., -0.74680284,\n",
              "        -1.24059541, -1.71365815],\n",
              "       [-0.25437712,  0.15668377, -0.23794823, ..., -1.11946267,\n",
              "        -0.89343833, -0.88564269],\n",
              "       [ 0.70692396, -0.70321447,  0.99613403, ...,  0.0170307 ,\n",
              "        -0.26526296, -0.14125408]])"
            ]
          },
          "metadata": {
            "tags": []
          },
          "execution_count": 164
        }
      ]
    },
    {
      "cell_type": "code",
      "metadata": {
        "id": "VETCA49d1mwg"
      },
      "source": [
        "dataset_train = keras.preprocessing.timeseries_dataset_from_array(\n",
        "    x_train,\n",
        "    y_train,\n",
        "    sequence_length=sequence_length,\n",
        "    sampling_rate=step,\n",
        "    batch_size=batch_size,\n",
        ")"
      ],
      "execution_count": 167,
      "outputs": []
    },
    {
      "cell_type": "code",
      "metadata": {
        "id": "h97sz_eCgK6G"
      },
      "source": [
        ""
      ],
      "execution_count": null,
      "outputs": []
    },
    {
      "cell_type": "markdown",
      "metadata": {
        "id": "X0unv_ZUpXQm"
      },
      "source": [
        "#Validation dataset\n"
      ]
    },
    {
      "cell_type": "code",
      "metadata": {
        "id": "Fm96K0MS2ry7",
        "colab": {
          "base_uri": "https://localhost:8080/"
        },
        "outputId": "b4f98fde-be4b-4b3a-9291-ae242a48716a"
      },
      "source": [
        "x_end = len(val_data) - past - future\n",
        "\n",
        "label_start = train_split + past + future\n",
        "\n",
        "x_val = val_data.iloc[:x_end][checklist].values\n",
        "y_val = features.iloc[label_start:][[22]].values\n",
        "\n",
        "dataset_val = keras.preprocessing.timeseries_dataset_from_array(\n",
        "    x_val,\n",
        "    y_val,\n",
        "    sequence_length=sequence_length,\n",
        "    sampling_rate=step,\n",
        "    batch_size=batch_size,\n",
        ")\n",
        "\n",
        "\n",
        "for batch in dataset_train.take(1):\n",
        "    inputs, targets = batch\n",
        "\n",
        "print(\"Input shape:\", inputs.numpy().shape)\n",
        "print(\"Target shape:\", targets.numpy().shape)"
      ],
      "execution_count": 187,
      "outputs": [
        {
          "output_type": "stream",
          "text": [
            "Input shape: (256, 20, 17)\n",
            "Target shape: (256, 1)\n"
          ],
          "name": "stdout"
        }
      ]
    },
    {
      "cell_type": "code",
      "metadata": {
        "id": "ew7XgyNru28a",
        "colab": {
          "base_uri": "https://localhost:8080/"
        },
        "outputId": "5e6242fa-9b43-4dc2-9d95-595fce8f1eee"
      },
      "source": [
        "y_val"
      ],
      "execution_count": 171,
      "outputs": [
        {
          "output_type": "execute_result",
          "data": {
            "text/plain": [
              "array([[-0.21702031],\n",
              "       [-0.92201365],\n",
              "       [-0.39549964],\n",
              "       ...,\n",
              "       [ 0.37196147],\n",
              "       [-0.66321862],\n",
              "       [ 0.56828873]])"
            ]
          },
          "metadata": {
            "tags": []
          },
          "execution_count": 171
        }
      ]
    },
    {
      "cell_type": "markdown",
      "metadata": {
        "id": "VmWXTYDLpe-V"
      },
      "source": [
        "#Training\n"
      ]
    },
    {
      "cell_type": "code",
      "metadata": {
        "id": "CmDZAEgB24uJ",
        "colab": {
          "base_uri": "https://localhost:8080/"
        },
        "outputId": "5de806fd-a205-4bb2-a17c-5a8d90eebad3"
      },
      "source": [
        "inputs = keras.layers.Input(shape=(inputs.shape[1], inputs.shape[2]))\n",
        "lstm_out = keras.layers.LSTM(32)(inputs)\n",
        "outputs = keras.layers.Dense(1)(lstm_out)\n",
        "\n",
        "model = keras.Model(inputs=inputs, outputs=outputs)\n",
        "model.compile(optimizer=keras.optimizers.Adam(learning_rate=learning_rate), loss=\"mse\")\n",
        "model.summary()"
      ],
      "execution_count": 172,
      "outputs": [
        {
          "output_type": "stream",
          "text": [
            "Model: \"functional_3\"\n",
            "_________________________________________________________________\n",
            "Layer (type)                 Output Shape              Param #   \n",
            "=================================================================\n",
            "input_2 (InputLayer)         [(None, 20, 17)]          0         \n",
            "_________________________________________________________________\n",
            "lstm_1 (LSTM)                (None, 32)                6400      \n",
            "_________________________________________________________________\n",
            "dense_1 (Dense)              (None, 1)                 33        \n",
            "=================================================================\n",
            "Total params: 6,433\n",
            "Trainable params: 6,433\n",
            "Non-trainable params: 0\n",
            "_________________________________________________________________\n"
          ],
          "name": "stdout"
        }
      ]
    },
    {
      "cell_type": "code",
      "metadata": {
        "id": "cmXHR6we297U",
        "colab": {
          "base_uri": "https://localhost:8080/"
        },
        "outputId": "99ebdbf6-97c3-4eac-9f31-910255cb8adb"
      },
      "source": [
        "path_checkpoint = \"model_checkpoint.h5\"\n",
        "es_callback = keras.callbacks.EarlyStopping(monitor=\"val_loss\", min_delta=0, patience=5)\n",
        "\n",
        "modelckpt_callback = keras.callbacks.ModelCheckpoint(\n",
        "    monitor=\"val_loss\",\n",
        "    filepath=path_checkpoint,\n",
        "    verbose=1,\n",
        "    save_weights_only=True,\n",
        "    save_best_only=True,\n",
        ")\n",
        "\n",
        "history = model.fit(\n",
        "    dataset_train,\n",
        "    epochs=epochs,\n",
        "    validation_data=dataset_val,\n",
        "    callbacks=[es_callback, modelckpt_callback],\n",
        ")"
      ],
      "execution_count": 173,
      "outputs": [
        {
          "output_type": "stream",
          "text": [
            "Epoch 1/3\n",
            "2242/2242 [==============================] - ETA: 0s - loss: 1.0005\n",
            "Epoch 00001: val_loss improved from inf to 1.01288, saving model to model_checkpoint.h5\n",
            "2242/2242 [==============================] - 115s 51ms/step - loss: 1.0005 - val_loss: 1.0129\n",
            "Epoch 2/3\n",
            "2241/2242 [============================>.] - ETA: 0s - loss: 0.9991\n",
            "Epoch 00002: val_loss improved from 1.01288 to 1.01277, saving model to model_checkpoint.h5\n",
            "2242/2242 [==============================] - 115s 51ms/step - loss: 0.9990 - val_loss: 1.0128\n",
            "Epoch 3/3\n",
            "2242/2242 [==============================] - ETA: 0s - loss: 0.9987\n",
            "Epoch 00003: val_loss did not improve from 1.01277\n",
            "2242/2242 [==============================] - 116s 52ms/step - loss: 0.9987 - val_loss: 1.0128\n"
          ],
          "name": "stdout"
        }
      ]
    },
    {
      "cell_type": "markdown",
      "metadata": {
        "id": "VEhWJ4qApsmD"
      },
      "source": [
        "We can visualize the loss with the function below. After one point, the loss stops decreasing."
      ]
    },
    {
      "cell_type": "code",
      "metadata": {
        "id": "M-MZ1ebm4o42",
        "colab": {
          "base_uri": "https://localhost:8080/",
          "height": 295
        },
        "outputId": "133dbcd1-ef2d-47bb-ad08-2039ab2767ce"
      },
      "source": [
        "def visualize_loss(history, title):\n",
        "    loss = history.history[\"loss\"]\n",
        "    val_loss = history.history[\"val_loss\"]\n",
        "    epochs = range(len(loss))\n",
        "    plt.figure()\n",
        "    plt.plot(epochs, loss, \"b\", label=\"Training loss\")\n",
        "    plt.plot(epochs, val_loss, \"r\", label=\"Validation loss\")\n",
        "    plt.title(title)\n",
        "    plt.xlabel(\"Epochs\")\n",
        "    plt.ylabel(\"Loss\")\n",
        "    plt.legend()\n",
        "    plt.show()\n",
        "\n",
        "\n",
        "visualize_loss(history, \"Training and Validation Loss\")"
      ],
      "execution_count": 174,
      "outputs": [
        {
          "output_type": "display_data",
          "data": {
            "image/png": "[encoded data removed]",
            "text/plain": [
              "<Figure size 432x288 with 1 Axes>"
            ]
          },
          "metadata": {
            "tags": [],
            "needs_background": "light"
          }
        }
      ]
    },
    {
      "cell_type": "markdown",
      "metadata": {
        "id": "ecmPWN8vpxRB"
      },
      "source": [
        "#Prediction\n",
        "The trained model above is now able to make predictions for 5 sets of values from validation set."
      ]
    },
    {
      "cell_type": "code",
      "metadata": {
        "id": "VzjVdL8P73E3",
        "colab": {
          "base_uri": "https://localhost:8080/",
          "height": 1000
        },
        "outputId": "73a89102-7f33-4292-c248-4e53e4ae449e"
      },
      "source": [
        "def show_plot(plot_data, delta, title):\n",
        "    labels = [\"History\", \"True Future\", \"Model Prediction\"]\n",
        "    marker = [\".-\", \"rx\", \"go\"]\n",
        "    time_steps = list(range(-(plot_data[0].shape[0]), 0))\n",
        "    if delta:\n",
        "        future = delta\n",
        "    else:\n",
        "        future = 0\n",
        "\n",
        "    plt.title(title)\n",
        "    for i, val in enumerate(plot_data):\n",
        "        if i:\n",
        "            plt.plot(future, plot_data[i], marker[i], markersize=10, label=labels[i])\n",
        "        else:\n",
        "            plt.plot(time_steps, plot_data[i].flatten(), marker[i], label=labels[i])\n",
        "    plt.legend()\n",
        "    plt.xlim([time_steps[0], (future + 5) * 2])\n",
        "    plt.xlabel(\"Time-Step\")\n",
        "    plt.show()\n",
        "    return\n",
        "\n",
        "\n",
        "for x, y in dataset_val.take(5):\n",
        "    show_plot(\n",
        "        [x[0][:, 4].numpy(), y[0].numpy(), model.predict(x)[0]],\n",
        "        12,\n",
        "        \"Single Step Prediction\",\n",
        "    )"
      ],
      "execution_count": 175,
      "outputs": [
        {
          "output_type": "display_data",
          "data": {
            "image/png": "[encoded data removed]",
            "text/plain": [
              "<Figure size 432x288 with 1 Axes>"
            ]
          },
          "metadata": {
            "tags": [],
            "needs_background": "light"
          }
        },
        {
          "output_type": "display_data",
          "data": {
            "image/png": "[encoded data removed]",
            "text/plain": [
              "<Figure size 432x288 with 1 Axes>"
            ]
          },
          "metadata": {
            "tags": [],
            "needs_background": "light"
          }
        },
        {
          "output_type": "display_data",
          "data": {
            "image/png": "[encoded data removed]",
            "text/plain": [
              "<Figure size 432x288 with 1 Axes>"
            ]
          },
          "metadata": {
            "tags": [],
            "needs_background": "light"
          }
        },
        {
          "output_type": "display_data",
          "data": {
            "image/png": "[encoded data removed]",
            "text/plain": [
              "<Figure size 432x288 with 1 Axes>"
            ]
          },
          "metadata": {
            "tags": [],
            "needs_background": "light"
          }
        },
        {
          "output_type": "display_data",
          "data": {
            "image/png": "[encoded data removed]",
            "text/plain": [
              "<Figure size 432x288 with 1 Axes>"
            ]
          },
          "metadata": {
            "tags": [],
            "needs_background": "light"
          }
        }
      ]
    },
    {
      "cell_type": "code",
      "metadata": {
        "colab": {
          "base_uri": "https://localhost:8080/",
          "height": 439
        },
        "id": "lP6vQSWXXesM",
        "outputId": "0b557686-6806-444b-cce7-71cd5bb26b29"
      },
      "source": [
        "ft"
      ],
      "execution_count": 181,
      "outputs": [
        {
          "output_type": "execute_result",
          "data": {
            "text/html": [
              "<div>\n",
              "<style scoped>\n",
              "    .dataframe tbody tr th:only-of-type {\n",
              "        vertical-align: middle;\n",
              "    }\n",
              "\n",
              "    .dataframe tbody tr th {\n",
              "        vertical-align: top;\n",
              "    }\n",
              "\n",
              "    .dataframe thead th {\n",
              "        text-align: right;\n",
              "    }\n",
              "</style>\n",
              "<table border=\"1\" class=\"dataframe\">\n",
              "  <thead>\n",
              "    <tr style=\"text-align: right;\">\n",
              "      <th></th>\n",
              "      <th>0</th>\n",
              "      <th>1</th>\n",
              "      <th>2</th>\n",
              "      <th>3</th>\n",
              "      <th>4</th>\n",
              "      <th>5</th>\n",
              "      <th>6</th>\n",
              "      <th>7</th>\n",
              "      <th>9</th>\n",
              "      <th>10</th>\n",
              "      <th>11</th>\n",
              "      <th>12</th>\n",
              "      <th>13</th>\n",
              "      <th>16</th>\n",
              "      <th>17</th>\n",
              "      <th>18</th>\n",
              "      <th>20</th>\n",
              "      <th>21</th>\n",
              "      <th>22</th>\n",
              "    </tr>\n",
              "  </thead>\n",
              "  <tbody>\n",
              "    <tr>\n",
              "      <th>0</th>\n",
              "      <td>-1.064998</td>\n",
              "      <td>0.776274</td>\n",
              "      <td>0.443890</td>\n",
              "      <td>-0.019957</td>\n",
              "      <td>-0.211196</td>\n",
              "      <td>0.772010</td>\n",
              "      <td>0.561226</td>\n",
              "      <td>0.636061</td>\n",
              "      <td>0.571533</td>\n",
              "      <td>0.194373</td>\n",
              "      <td>-0.313985</td>\n",
              "      <td>0.420416</td>\n",
              "      <td>0.041306</td>\n",
              "      <td>-0.230966</td>\n",
              "      <td>0.166327</td>\n",
              "      <td>0.224487</td>\n",
              "      <td>0.985144</td>\n",
              "      <td>0.365714</td>\n",
              "      <td>-0.778353</td>\n",
              "    </tr>\n",
              "    <tr>\n",
              "      <th>1</th>\n",
              "      <td>-0.805599</td>\n",
              "      <td>0.881951</td>\n",
              "      <td>-0.260368</td>\n",
              "      <td>0.743626</td>\n",
              "      <td>0.622951</td>\n",
              "      <td>-0.182482</td>\n",
              "      <td>1.147556</td>\n",
              "      <td>0.513645</td>\n",
              "      <td>0.544514</td>\n",
              "      <td>0.410612</td>\n",
              "      <td>-0.077475</td>\n",
              "      <td>0.027239</td>\n",
              "      <td>0.256228</td>\n",
              "      <td>1.316804</td>\n",
              "      <td>-0.894892</td>\n",
              "      <td>-0.923607</td>\n",
              "      <td>-1.264563</td>\n",
              "      <td>-0.292229</td>\n",
              "      <td>0.424689</td>\n",
              "    </tr>\n",
              "    <tr>\n",
              "      <th>2</th>\n",
              "      <td>0.113740</td>\n",
              "      <td>-0.218255</td>\n",
              "      <td>0.550307</td>\n",
              "      <td>0.775084</td>\n",
              "      <td>0.739202</td>\n",
              "      <td>0.552938</td>\n",
              "      <td>0.433166</td>\n",
              "      <td>-1.065617</td>\n",
              "      <td>-1.161621</td>\n",
              "      <td>-0.232064</td>\n",
              "      <td>-2.609983</td>\n",
              "      <td>-1.546014</td>\n",
              "      <td>-1.547954</td>\n",
              "      <td>0.142775</td>\n",
              "      <td>0.266519</td>\n",
              "      <td>0.418056</td>\n",
              "      <td>0.263451</td>\n",
              "      <td>1.104773</td>\n",
              "      <td>-0.715973</td>\n",
              "    </tr>\n",
              "    <tr>\n",
              "      <th>3</th>\n",
              "      <td>0.043168</td>\n",
              "      <td>-0.190750</td>\n",
              "      <td>-0.585802</td>\n",
              "      <td>-0.943674</td>\n",
              "      <td>-0.139814</td>\n",
              "      <td>0.060486</td>\n",
              "      <td>0.617087</td>\n",
              "      <td>-1.099062</td>\n",
              "      <td>-1.124266</td>\n",
              "      <td>-1.848114</td>\n",
              "      <td>1.961737</td>\n",
              "      <td>-1.481337</td>\n",
              "      <td>-1.540257</td>\n",
              "      <td>0.406257</td>\n",
              "      <td>0.326980</td>\n",
              "      <td>0.326560</td>\n",
              "      <td>0.286481</td>\n",
              "      <td>1.230954</td>\n",
              "      <td>-1.108076</td>\n",
              "    </tr>\n",
              "    <tr>\n",
              "      <th>4</th>\n",
              "      <td>-0.340208</td>\n",
              "      <td>0.370935</td>\n",
              "      <td>-0.494219</td>\n",
              "      <td>0.867089</td>\n",
              "      <td>0.141022</td>\n",
              "      <td>-0.396329</td>\n",
              "      <td>1.482144</td>\n",
              "      <td>-1.100260</td>\n",
              "      <td>-1.157558</td>\n",
              "      <td>-1.848114</td>\n",
              "      <td>1.961737</td>\n",
              "      <td>-1.533946</td>\n",
              "      <td>-1.537752</td>\n",
              "      <td>2.322742</td>\n",
              "      <td>-2.471852</td>\n",
              "      <td>-0.511421</td>\n",
              "      <td>-0.226789</td>\n",
              "      <td>-2.680651</td>\n",
              "      <td>1.730210</td>\n",
              "    </tr>\n",
              "    <tr>\n",
              "      <th>...</th>\n",
              "      <td>...</td>\n",
              "      <td>...</td>\n",
              "      <td>...</td>\n",
              "      <td>...</td>\n",
              "      <td>...</td>\n",
              "      <td>...</td>\n",
              "      <td>...</td>\n",
              "      <td>...</td>\n",
              "      <td>...</td>\n",
              "      <td>...</td>\n",
              "      <td>...</td>\n",
              "      <td>...</td>\n",
              "      <td>...</td>\n",
              "      <td>...</td>\n",
              "      <td>...</td>\n",
              "      <td>...</td>\n",
              "      <td>...</td>\n",
              "      <td>...</td>\n",
              "      <td>...</td>\n",
              "    </tr>\n",
              "    <tr>\n",
              "      <th>70843</th>\n",
              "      <td>-1.042110</td>\n",
              "      <td>1.204775</td>\n",
              "      <td>0.302719</td>\n",
              "      <td>2.530875</td>\n",
              "      <td>0.750878</td>\n",
              "      <td>-0.799844</td>\n",
              "      <td>0.766441</td>\n",
              "      <td>0.644483</td>\n",
              "      <td>0.709121</td>\n",
              "      <td>0.154133</td>\n",
              "      <td>-0.529311</td>\n",
              "      <td>-0.054251</td>\n",
              "      <td>0.436822</td>\n",
              "      <td>-0.929608</td>\n",
              "      <td>-0.271646</td>\n",
              "      <td>-0.258613</td>\n",
              "      <td>-0.192108</td>\n",
              "      <td>1.086747</td>\n",
              "      <td>-0.992227</td>\n",
              "    </tr>\n",
              "    <tr>\n",
              "      <th>70844</th>\n",
              "      <td>0.247254</td>\n",
              "      <td>-0.585956</td>\n",
              "      <td>1.647176</td>\n",
              "      <td>1.265054</td>\n",
              "      <td>-0.021117</td>\n",
              "      <td>1.930341</td>\n",
              "      <td>0.781318</td>\n",
              "      <td>-1.136479</td>\n",
              "      <td>0.604254</td>\n",
              "      <td>-0.060481</td>\n",
              "      <td>-0.119844</td>\n",
              "      <td>0.084017</td>\n",
              "      <td>0.346901</td>\n",
              "      <td>-0.719044</td>\n",
              "      <td>-0.621161</td>\n",
              "      <td>-0.911573</td>\n",
              "      <td>-0.969448</td>\n",
              "      <td>0.942541</td>\n",
              "      <td>0.576183</td>\n",
              "    </tr>\n",
              "    <tr>\n",
              "      <th>70845</th>\n",
              "      <td>-0.715954</td>\n",
              "      <td>0.863132</td>\n",
              "      <td>1.337136</td>\n",
              "      <td>0.645410</td>\n",
              "      <td>-1.584480</td>\n",
              "      <td>-0.989382</td>\n",
              "      <td>0.590542</td>\n",
              "      <td>0.646194</td>\n",
              "      <td>0.712080</td>\n",
              "      <td>-0.810226</td>\n",
              "      <td>-0.587161</td>\n",
              "      <td>1.856587</td>\n",
              "      <td>1.565200</td>\n",
              "      <td>-1.220187</td>\n",
              "      <td>-0.746803</td>\n",
              "      <td>-1.240595</td>\n",
              "      <td>-1.713658</td>\n",
              "      <td>-1.373778</td>\n",
              "      <td>1.271274</td>\n",
              "    </tr>\n",
              "    <tr>\n",
              "      <th>70846</th>\n",
              "      <td>-0.254377</td>\n",
              "      <td>0.156684</td>\n",
              "      <td>-0.237948</td>\n",
              "      <td>0.934724</td>\n",
              "      <td>-1.593658</td>\n",
              "      <td>-2.627242</td>\n",
              "      <td>0.792257</td>\n",
              "      <td>0.579303</td>\n",
              "      <td>0.638366</td>\n",
              "      <td>0.276062</td>\n",
              "      <td>1.225054</td>\n",
              "      <td>2.415388</td>\n",
              "      <td>1.878169</td>\n",
              "      <td>-0.596069</td>\n",
              "      <td>-1.119463</td>\n",
              "      <td>-0.893438</td>\n",
              "      <td>-0.885643</td>\n",
              "      <td>-1.572063</td>\n",
              "      <td>2.046568</td>\n",
              "    </tr>\n",
              "    <tr>\n",
              "      <th>70847</th>\n",
              "      <td>0.706924</td>\n",
              "      <td>-0.703214</td>\n",
              "      <td>0.996134</td>\n",
              "      <td>1.657478</td>\n",
              "      <td>0.464892</td>\n",
              "      <td>-0.229343</td>\n",
              "      <td>1.437512</td>\n",
              "      <td>0.617370</td>\n",
              "      <td>0.554887</td>\n",
              "      <td>0.830084</td>\n",
              "      <td>-0.160471</td>\n",
              "      <td>-0.193061</td>\n",
              "      <td>-0.011351</td>\n",
              "      <td>-0.747194</td>\n",
              "      <td>0.017031</td>\n",
              "      <td>-0.265263</td>\n",
              "      <td>-0.141254</td>\n",
              "      <td>-2.020866</td>\n",
              "      <td>1.904701</td>\n",
              "    </tr>\n",
              "  </tbody>\n",
              "</table>\n",
              "<p>70848 rows × 19 columns</p>\n",
              "</div>"
            ],
            "text/plain": [
              "             0         1         2         3         4         5         6   \\\n",
              "0     -1.064998  0.776274  0.443890 -0.019957 -0.211196  0.772010  0.561226   \n",
              "1     -0.805599  0.881951 -0.260368  0.743626  0.622951 -0.182482  1.147556   \n",
              "2      0.113740 -0.218255  0.550307  0.775084  0.739202  0.552938  0.433166   \n",
              "3      0.043168 -0.190750 -0.585802 -0.943674 -0.139814  0.060486  0.617087   \n",
              "4     -0.340208  0.370935 -0.494219  0.867089  0.141022 -0.396329  1.482144   \n",
              "...         ...       ...       ...       ...       ...       ...       ...   \n",
              "70843 -1.042110  1.204775  0.302719  2.530875  0.750878 -0.799844  0.766441   \n",
              "70844  0.247254 -0.585956  1.647176  1.265054 -0.021117  1.930341  0.781318   \n",
              "70845 -0.715954  0.863132  1.337136  0.645410 -1.584480 -0.989382  0.590542   \n",
              "70846 -0.254377  0.156684 -0.237948  0.934724 -1.593658 -2.627242  0.792257   \n",
              "70847  0.706924 -0.703214  0.996134  1.657478  0.464892 -0.229343  1.437512   \n",
              "\n",
              "             7         9         10        11        12        13        16  \\\n",
              "0      0.636061  0.571533  0.194373 -0.313985  0.420416  0.041306 -0.230966   \n",
              "1      0.513645  0.544514  0.410612 -0.077475  0.027239  0.256228  1.316804   \n",
              "2     -1.065617 -1.161621 -0.232064 -2.609983 -1.546014 -1.547954  0.142775   \n",
              "3     -1.099062 -1.124266 -1.848114  1.961737 -1.481337 -1.540257  0.406257   \n",
              "4     -1.100260 -1.157558 -1.848114  1.961737 -1.533946 -1.537752  2.322742   \n",
              "...         ...       ...       ...       ...       ...       ...       ...   \n",
              "70843  0.644483  0.709121  0.154133 -0.529311 -0.054251  0.436822 -0.929608   \n",
              "70844 -1.136479  0.604254 -0.060481 -0.119844  0.084017  0.346901 -0.719044   \n",
              "70845  0.646194  0.712080 -0.810226 -0.587161  1.856587  1.565200 -1.220187   \n",
              "70846  0.579303  0.638366  0.276062  1.225054  2.415388  1.878169 -0.596069   \n",
              "70847  0.617370  0.554887  0.830084 -0.160471 -0.193061 -0.011351 -0.747194   \n",
              "\n",
              "             17        18        20        21        22  \n",
              "0      0.166327  0.224487  0.985144  0.365714 -0.778353  \n",
              "1     -0.894892 -0.923607 -1.264563 -0.292229  0.424689  \n",
              "2      0.266519  0.418056  0.263451  1.104773 -0.715973  \n",
              "3      0.326980  0.326560  0.286481  1.230954 -1.108076  \n",
              "4     -2.471852 -0.511421 -0.226789 -2.680651  1.730210  \n",
              "...         ...       ...       ...       ...       ...  \n",
              "70843 -0.271646 -0.258613 -0.192108  1.086747 -0.992227  \n",
              "70844 -0.621161 -0.911573 -0.969448  0.942541  0.576183  \n",
              "70845 -0.746803 -1.240595 -1.713658 -1.373778  1.271274  \n",
              "70846 -1.119463 -0.893438 -0.885643 -1.572063  2.046568  \n",
              "70847  0.017031 -0.265263 -0.141254 -2.020866  1.904701  \n",
              "\n",
              "[70848 rows x 19 columns]"
            ]
          },
          "metadata": {
            "tags": []
          },
          "execution_count": 181
        }
      ]
    },
    {
      "cell_type": "code",
      "metadata": {
        "colab": {
          "base_uri": "https://localhost:8080/"
        },
        "id": "29T5GNeFXemS",
        "outputId": "19fdb509-aebe-43f2-9eb2-a0dc7da9d02a"
      },
      "source": [
        "x_end = len(ft) - past - future\r\n",
        "\r\n",
        "label_start = past + future\r\n",
        "\r\n",
        "x_t = ft.iloc[:x_end][checklist].values\r\n",
        "y_t = ft[label_start:][[22]].values\r\n",
        "\r\n",
        "dataset_t = keras.preprocessing.timeseries_dataset_from_array(\r\n",
        "    x_t,\r\n",
        "    y_t,\r\n",
        "    sequence_length=sequence_length,\r\n",
        "    sampling_rate=step,\r\n",
        "    batch_size=batch_size,\r\n",
        ")\r\n",
        "\r\n",
        "\r\n",
        "for batch in dataset_t.take(1):\r\n",
        "    inputs, targets = batch\r\n",
        "print(\"Input shape:\", inputs.numpy().shape)\r\n",
        "print(\"Target shape:\", targets.numpy().shape)"
      ],
      "execution_count": 182,
      "outputs": [
        {
          "output_type": "stream",
          "text": [
            "Input shape: (256, 20, 17)\n",
            "Target shape: (256, 1)\n"
          ],
          "name": "stdout"
        }
      ]
    },
    {
      "cell_type": "code",
      "metadata": {
        "colab": {
          "base_uri": "https://localhost:8080/"
        },
        "id": "OwUYrgdtYYC4",
        "outputId": "e20c0f5a-2173-4a50-8782-ba2927a1a314"
      },
      "source": [
        "len(y_t)"
      ],
      "execution_count": 185,
      "outputs": [
        {
          "output_type": "execute_result",
          "data": {
            "text/plain": [
              "70785"
            ]
          },
          "metadata": {
            "tags": []
          },
          "execution_count": 185
        }
      ]
    },
    {
      "cell_type": "code",
      "metadata": {
        "id": "yay0fv2ouC3u",
        "colab": {
          "base_uri": "https://localhost:8080/"
        },
        "outputId": "1465a868-dc99-4818-df85-267de7cdec41"
      },
      "source": [
        "len(model.predict(dataset_t))"
      ],
      "execution_count": 186,
      "outputs": [
        {
          "output_type": "execute_result",
          "data": {
            "text/plain": [
              "70726"
            ]
          },
          "metadata": {
            "tags": []
          },
          "execution_count": 186
        }
      ]
    },
    {
      "cell_type": "code",
      "metadata": {
        "id": "hcXcKShoa5P0"
      },
      "source": [
        ""
      ],
      "execution_count": null,
      "outputs": []
    },
    {
      "cell_type": "code",
      "metadata": {
        "id": "QiitS36rZQH7"
      },
      "source": [
        ""
      ],
      "execution_count": null,
      "outputs": []
    }
  ]
}